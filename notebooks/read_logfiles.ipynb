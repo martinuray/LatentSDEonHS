{
 "cells": [
  {
   "cell_type": "code",
   "execution_count": 51,
   "metadata": {},
   "outputs": [],
   "source": [
    "import json\n",
    "import numpy as np\n",
    "import matplotlib.pyplot as plt\n",
    "import os\n",
    "from collections import defaultdict"
   ]
  },
  {
   "cell_type": "code",
   "execution_count": 66,
   "metadata": {},
   "outputs": [],
   "source": [
    "directory = \"../logs\"\n",
    "\n",
    "tasks = [\"pendulum_regression\", \"pendulum_interpolation\", \"activity_classification\",\"physionet_interpolation\", \"rotmnist\" ]\n",
    "\n",
    "experiments = defaultdict(list)\n",
    "for task in tasks:\n",
    "    for log_file in os.listdir(directory):\n",
    "        if task in log_file:\n",
    "            filename = os.path.join(directory,log_file)\n",
    "            if filename.endswith(\".json\"):            \n",
    "                with open(filename, 'r') as f:\n",
    "                    dic = json.load(f)\n",
    "                    if task == \"physionet_interpolation\":\n",
    "                        experiments[f'{task}_{dic[\"args\"][\"sample_tp\"]}'].append(dic['final'])\n",
    "                    else:\n",
    "                        if dic[\"final\"][\"epoch\"] == 990:\n",
    "                            experiments[task].append(dic['final'])\n",
    "\n",
    "\n"
   ]
  },
  {
   "cell_type": "code",
   "execution_count": 67,
   "metadata": {},
   "outputs": [],
   "source": [
    "summarized = defaultdict(dict)\n",
    "for task in experiments.keys():\n",
    "    for key in experiments[task][0].keys():\n",
    "        summarized[task][key] = [experiment[key] for experiment in experiments[task]]"
   ]
  },
  {
   "cell_type": "code",
   "execution_count": 68,
   "metadata": {},
   "outputs": [],
   "source": [
    "def gen_table_row(exp, key, scale, prec=2):\n",
    "    return (f\"| {exp[key].mean()*scale:.{prec}f} \\u00B1 {exp[key].std()*scale:.{prec}f}|\" \n",
    " +\"\".join([ f\"{x*scale:.{prec}f} |\" for x in exp[key].values])\n",
    ")"
   ]
  },
  {
   "cell_type": "code",
   "execution_count": 71,
   "metadata": {},
   "outputs": [
    {
     "name": "stdout",
     "output_type": "stream",
     "text": [
      "| 31.35 ± nan|31.35 |\n",
      "   trn_loss  trn_elbo    trn_kl0        trn_klp  trn_log_pxz  tst_loss  \\\n",
      "0  0.313501  0.313501  55.991515  110512.111111   2692.57181   0.33726   \n",
      "\n",
      "   tst_elbo    tst_kl0        tst_klp  tst_log_pxz  ...  tst_mse_trgt*  \\\n",
      "0   0.33726  55.977338  108463.684722  4219.731359  ...       0.011782   \n",
      "\n",
      "   val_loss  val_elbo    val_kl0       val_klp  val_log_pxz  val_mse_full  \\\n",
      "0  0.335055  0.335055  55.969596  110455.80816  4191.877848      0.010162   \n",
      "\n",
      "   val_mse_trgt  val_mse_trgt*  epoch  \n",
      "0        0.0111       0.010945    990  \n",
      "\n",
      "[1 rows x 22 columns]\n"
     ]
    }
   ],
   "source": [
    "import pandas as pd \n",
    "task = 'rotmnist'\n",
    "exp = pd.DataFrame.from_dict(summarized[task])\n",
    "target = 'trn_loss'\n",
    "\n",
    "print(gen_table_row(exp, target, 100, prec=2))\n",
    "print(exp)\n"
   ]
  },
  {
   "cell_type": "code",
   "execution_count": 72,
   "metadata": {},
   "outputs": [
    {
     "ename": "NameError",
     "evalue": "name 'args' is not defined",
     "output_type": "error",
     "traceback": [
      "\u001b[0;31m---------------------------------------------------------------------------\u001b[0m",
      "\u001b[0;31mNameError\u001b[0m                                 Traceback (most recent call last)",
      "\u001b[1;32m/lab/ai/fgraf/LatentSDEonHS_PreRelease/notebooks/read_logfiles.ipynb Cell 6\u001b[0m line \u001b[0;36m1\n\u001b[0;32m----> <a href='vscode-notebook-cell://ssh-remote%2Bgoldbaer.cosy.sbg.ac.at/lab/ai/fgraf/LatentSDEonHS_PreRelease/notebooks/read_logfiles.ipynb#X11sdnNjb2RlLXJlbW90ZQ%3D%3D?line=0'>1</a>\u001b[0m args\n",
      "\u001b[0;31mNameError\u001b[0m: name 'args' is not defined"
     ]
    }
   ],
   "source": []
  },
  {
   "cell_type": "code",
   "execution_count": 35,
   "metadata": {},
   "outputs": [
    {
     "data": {
      "text/plain": [
       "'| 3.15 ± 0.04|3.15 |3.15 |3.17 |3.14 |3.12 |3.06 |3.18 |3.20 |'"
      ]
     },
     "execution_count": 35,
     "metadata": {},
     "output_type": "execute_result"
    }
   ],
   "source": [
    "print_table_row(exp, 1000)"
   ]
  },
  {
   "cell_type": "code",
   "execution_count": 33,
   "metadata": {},
   "outputs": [
    {
     "data": {
      "text/plain": [
       "'| 3.15 ± 0.04|3.15 |3.15 |3.17 |3.14 |3.12 |3.06 |3.18 |3.20 |'"
      ]
     },
     "execution_count": 33,
     "metadata": {},
     "output_type": "execute_result"
    }
   ],
   "source": [
    "(f\"| {exp.tst_mse_impt.values.mean()*1000:.2f} \\u00B1 {exp.tst_mse_impt.values.std()*1000:.2f}|\" \n",
    " +\"\".join([ f\"{x*1000:.2f} |\" for x in exp.tst_mse_impt.values])\n",
    ")"
   ]
  },
  {
   "cell_type": "code",
   "execution_count": 26,
   "metadata": {},
   "outputs": [
    {
     "data": {
      "text/plain": [
       "3.1479276355821644"
      ]
     },
     "execution_count": 26,
     "metadata": {},
     "output_type": "execute_result"
    }
   ],
   "source": [
    "f\"{exp.tst_mse_impt.values.mean()*1000:.2f} \\u00B1 {exp.tst_mse_impt.values.std()*1000:.2f}"
   ]
  }
 ],
 "metadata": {
  "kernelspec": {
   "display_name": "base",
   "language": "python",
   "name": "python3"
  },
  "language_info": {
   "codemirror_mode": {
    "name": "ipython",
    "version": 3
   },
   "file_extension": ".py",
   "mimetype": "text/x-python",
   "name": "python",
   "nbconvert_exporter": "python",
   "pygments_lexer": "ipython3",
   "version": "3.10.9"
  }
 },
 "nbformat": 4,
 "nbformat_minor": 2
}
