{
 "cells": [
  {
   "cell_type": "markdown",
   "metadata": {},
   "source": [
    "# Rotating MNIST Notebook"
   ]
  },
  {
   "cell_type": "code",
   "execution_count": 1,
   "metadata": {},
   "outputs": [],
   "source": [
    "%matplotlib inline\n",
    "import matplotlib.pyplot as plt\n",
    "\n",
    "import sys\n",
    "sys.path.append('../')\n",
    "\n",
    "import torch\n",
    "import torch.nn as nn\n",
    "import numpy as np\n",
    "import json\n",
    "from pprint import pprint\n",
    "\n",
    "from argparse import Namespace\n",
    "\n",
    "from core.models import (\n",
    "    RotatingMNISTRecogNetwork, \n",
    "    RotatingMNISTReconNetwork, \n",
    "    SOnPathDistributionEncoder, \n",
    "    PathToBernoulliDecoder, \n",
    "    default_SOnPathDistributionEncoder)"
   ]
  },
  {
   "cell_type": "markdown",
   "metadata": {},
   "source": [
    "Load experiment **log file**:"
   ]
  },
  {
   "cell_type": "code",
   "execution_count": null,
   "metadata": {},
   "outputs": [],
   "source": [
    "dataset = \"rotmnist\"\n",
    "experiment_id = 80345\n",
    "log_file = f\"../logs/{dataset}_{experiment_id}.json\"\n",
    "\n",
    "with open(log_file,'r') as f:\n",
    "    logs = json.load(f)"
   ]
  },
  {
   "cell_type": "markdown",
   "metadata": {},
   "source": [
    "Print **experiment configuration** (args):"
   ]
  },
  {
   "cell_type": "code",
   "execution_count": null,
   "metadata": {},
   "outputs": [],
   "source": [
    "pprint(logs['args'])"
   ]
  },
  {
   "cell_type": "markdown",
   "metadata": {},
   "source": [
    "Print final **training/evaluation/testing statistics**:"
   ]
  },
  {
   "cell_type": "code",
   "execution_count": null,
   "metadata": {},
   "outputs": [],
   "source": [
    "pprint(logs['final'])"
   ]
  },
  {
   "cell_type": "code",
   "execution_count": null,
   "metadata": {},
   "outputs": [],
   "source": [
    "def plot_stat(logs: dict, stat:str, modes:list = ['trn','tst', 'val']):\n",
    "    fig, ax = plt.subplots(figsize=(8,3))\n",
    "    for mode in modes:\n",
    "        key = f\"{mode}_{stat}\"\n",
    "        val = logs['all'][key]\n",
    "        ax.plot(val, label = mode)\n",
    "    ax.set_xlabel('training epochs')\n",
    "    ax.set_ylabel(stat)\n",
    "    ax.grid()\n",
    "    return fig, ax"
   ]
  },
  {
   "cell_type": "markdown",
   "metadata": {},
   "source": [
    "E.g., one could look at the **loss evolution** over all training epochs:"
   ]
  },
  {
   "cell_type": "code",
   "execution_count": null,
   "metadata": {},
   "outputs": [],
   "source": [
    "plot_stat(logs, 'loss')"
   ]
  },
  {
   "cell_type": "markdown",
   "metadata": {},
   "source": [
    "... or compare (for this experiment), the **MSE** on the left-out target:"
   ]
  },
  {
   "cell_type": "code",
   "execution_count": null,
   "metadata": {},
   "outputs": [],
   "source": [
    "fig, ax = plot_stat(logs, 'mse_trgt', ['tst','val'])\n",
    "ax.set_ylim((0.01,0.02))"
   ]
  },
  {
   "cell_type": "markdown",
   "metadata": {},
   "source": [
    "## Loading a checkpoint & Sampling from the posterior\n",
    "\n",
    "First, **instantiate** the model (using the model configuration provided via the command line arguments):"
   ]
  },
  {
   "cell_type": "code",
   "execution_count": null,
   "metadata": {},
   "outputs": [],
   "source": [
    "args = Namespace(**logs['args'])\n",
    "\n",
    "recog_net = RotatingMNISTRecogNetwork(n_filters=args.n_filters)\n",
    "recon_net = RotatingMNISTReconNetwork(\n",
    "    z_dim=args.z_dim, n_filters=args.n_filters * 2\n",
    ")\n",
    "qzx_net = default_SOnPathDistributionEncoder(\n",
    "    h_dim=256, \n",
    "    z_dim=args.z_dim, \n",
    "    n_deg=args.n_deg, \n",
    "    time_min=0.0, \n",
    "    time_max=20.0\n",
    ")\n",
    "pxz_net = PathToBernoulliDecoder(logit_map=recon_net)\n",
    "\n",
    "modules = nn.ModuleDict(\n",
    "    {\n",
    "        \"recog_net\": recog_net,\n",
    "        \"recon_net\": recon_net,\n",
    "        \"pxz_net\": pxz_net,\n",
    "        \"qzx_net\": qzx_net,\n",
    "    }\n",
    ")\n",
    "modules = modules.to(args.device)"
   ]
  },
  {
   "cell_type": "markdown",
   "metadata": {},
   "source": [
    "Next, we look the checkpoint (at the epoch specified):"
   ]
  },
  {
   "cell_type": "code",
   "execution_count": null,
   "metadata": {},
   "outputs": [],
   "source": [
    "epoch = 990\n",
    "checkpoint = f\"checkpoints/checkpoint_{experiment_id}_{epoch}.h5\"\n",
    "checkpoint = torch.load(checkpoint)\n",
    "modules.load_state_dict(checkpoint['modules'])"
   ]
  },
  {
   "cell_type": "markdown",
   "metadata": {},
   "source": [
    "Get the data loaders for training/validation/testing:"
   ]
  },
  {
   "cell_type": "code",
   "execution_count": null,
   "metadata": {},
   "outputs": [],
   "source": [
    "from data.mnist_provider import RotatingMNISTProvider\n",
    "provider = RotatingMNISTProvider(args.data_dir, random_state=133)\n",
    "dl_trn = provider.get_train_loader(batch_size=args.batch_size, shuffle=True)\n",
    "dl_val = provider.get_val_loader(batch_size=args.batch_size, shuffle=False)\n",
    "dl_tst = provider.get_test_loader(batch_size=args.batch_size, shuffle=False)\n",
    "\n",
    "batch = next(iter(dl_tst))"
   ]
  },
  {
   "cell_type": "markdown",
   "metadata": {},
   "source": [
    "In the example below, we run one batch of testing data through the model. We can, e.g., look at samples from the approximate posterior (i.e., **latent paths**), or at the reconstructions (i.e., paths in the input space, reconstructed from the latent paths)."
   ]
  },
  {
   "cell_type": "code",
   "execution_count": null,
   "metadata": {},
   "outputs": [],
   "source": [
    "dl = dl_tst\n",
    "device = 'cpu'\n",
    "modules = modules.to(device)\n",
    "desired_t = torch.linspace(0, 0.99, provider.num_timepoints, device=device)\n",
    "for _, batch in enumerate(dl):\n",
    "    parts = {key: val.to(device) for key, val in batch.items()}\n",
    "    inp = (parts[\"inp_obs\"], parts[\"inp_msk\"], parts[\"inp_tps\"])\n",
    "    h = modules[\"recog_net\"](inp)\n",
    "    qzx, pz = modules[\"qzx_net\"](h, desired_t)\n",
    "    zis = qzx.rsample((args.mc_eval_samples,))\n",
    "    pxz = modules[\"pxz_net\"](zis)\n",
    "    break"
   ]
  },
  {
   "cell_type": "code",
   "execution_count": null,
   "metadata": {},
   "outputs": [],
   "source": [
    "from mpl_toolkits.axes_grid1 import ImageGrid\n",
    "\n",
    "rec = pxz.mean[0,0].detach().cpu()\n",
    "rec = np.array(rec).transpose(0,2,3,1)\n",
    "\n",
    "fig = plt.figure(figsize=(4., 4.))\n",
    "grid = ImageGrid(fig, 111,\n",
    "                 nrows_ncols=(4, 4),\n",
    "                 axes_pad=0.1,\n",
    "                 )\n",
    "\n",
    "for ax, im in zip(grid, rec):\n",
    "    # Iterating over the grid returns the Axes.\n",
    "    ax.imshow(im)\n",
    "    ax.axis('off')\n",
    "\n",
    "plt.show()"
   ]
  },
  {
   "cell_type": "markdown",
   "metadata": {},
   "source": [
    "## Extrapolation"
   ]
  },
  {
   "cell_type": "code",
   "execution_count": null,
   "metadata": {},
   "outputs": [],
   "source": [
    "k = 4\n",
    "desired_t = torch.linspace(0, 0.99*k, k*provider.num_timepoints, device=device)\n",
    "\n",
    "for _, batch in enumerate(dl):\n",
    "    parts = {key: val.to(device) for key, val in batch.items()}\n",
    "    inp = (parts[\"inp_obs\"], parts[\"inp_msk\"], parts[\"inp_tps\"])\n",
    "    h = modules[\"recog_net\"](inp)\n",
    "    qzx, pz = modules[\"qzx_net\"](h, desired_t)\n",
    "    zis = qzx.rsample((args.mc_eval_samples,))\n",
    "    pxz = modules[\"pxz_net\"](zis)\n",
    "    break\n",
    "\n",
    "from mpl_toolkits.axes_grid1 import ImageGrid\n",
    "\n",
    "rec = pxz.mean[0,0].detach().cpu()\n",
    "rec = np.array(rec).transpose(0,2,3,1)\n",
    "\n",
    "fig = plt.figure(figsize=(16., 1.*k))\n",
    "grid = ImageGrid(fig, 111,\n",
    "                 nrows_ncols=(k, 16),\n",
    "                 axes_pad=0.1,\n",
    "                 )\n",
    "\n",
    "for ax, im in zip(grid, rec):\n",
    "    ax.imshow(im)\n",
    "    ax.axis('off')\n",
    "plt.show()"
   ]
  },
  {
   "cell_type": "code",
   "execution_count": null,
   "metadata": {},
   "outputs": [],
   "source": []
  }
 ],
 "metadata": {
  "kernelspec": {
   "display_name": "Python 3 (ipykernel)",
   "language": "python",
   "name": "python3"
  },
  "language_info": {
   "codemirror_mode": {
    "name": "ipython",
    "version": 3
   },
   "file_extension": ".py",
   "mimetype": "text/x-python",
   "name": "python",
   "nbconvert_exporter": "python",
   "pygments_lexer": "ipython3",
   "version": "3.9.18"
  }
 },
 "nbformat": 4,
 "nbformat_minor": 4
}
